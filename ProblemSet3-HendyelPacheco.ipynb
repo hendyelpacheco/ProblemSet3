{
 "cells": [
  {
   "cell_type": "markdown",
   "metadata": {},
   "source": [
    "# Problem Set 3"
   ]
  },
  {
   "cell_type": "markdown",
   "metadata": {},
   "source": [
    "<b> Hendyel Pacheco </b>"
   ]
  },
  {
   "cell_type": "markdown",
   "metadata": {},
   "source": [
    "## Data:\n",
    "The data file for this problem set is at: \n",
    "\n",
    "  **/ufrc/zoo6927/share/Class_Files/data/CO-OPS__8729108__wl.csv**\n",
    "\n",
    "  It is also in the Class_Files git repo [here](https://github.com/CompTools/Class_Files/blob/master/data/CO-OPS__8729108__wl.csv)\n",
    "  \n",
    "  The metadata file for this file is [here](https://github.com/CompTools/Class_Files/blob/master/data/CO_OPS__wl_file.md)"
   ]
  },
  {
   "cell_type": "markdown",
   "metadata": {},
   "source": [
    "## Problem 1:\n",
    "Write a script (or Jupyter Notebook code block) that opens the file, uses a for loop to read through the file line by line and calculates the highest water level and the date and time that was observed."
   ]
  },
  {
   "cell_type": "code",
   "execution_count": 49,
   "metadata": {},
   "outputs": [
    {
     "name": "stdout",
     "output_type": "stream",
     "text": [
      "Date and time:  2018-10-10 18:06 \n",
      "Highest water level:  6.647\n"
     ]
    }
   ],
   "source": [
    "data = open(\"CO-OPS__8729108__wl.csv\")\n",
    "\n",
    "count = 0\n",
    "WL_max = 0.0 #define a variable that holding the maximum water level value\n",
    "\n",
    "for level in data:\n",
    "    count = count + 1\n",
    "    if count > 1:\n",
    "        date=level.strip().split(\",\")[0] #parsing the date\n",
    "        water_level=level.strip().split(\",\")[1] #parsing the water level\n",
    "        #skip empty values\n",
    "        try:\n",
    "           water_level = float(water_level)\n",
    "        except:\n",
    "            continue #continue even if it encounters a non-float value\n",
    "        if water_level > WL_max:\n",
    "            WL_max=float(water_level) #define a variable that holding the data of maximum water level\n",
    "            D_max=date\n",
    "           \n",
    "print('Date and time: ', D_max,'\\nHighest water level: ' ,WL_max)"
   ]
  },
  {
   "cell_type": "markdown",
   "metadata": {},
   "source": [
    "## Problem 2:\n",
    "Write a script (or Jupyter Notebook code block) that reads the file into a Pandas dataframe and calculates the highest water level and the date and time that was observed."
   ]
  },
  {
   "cell_type": "code",
   "execution_count": 1,
   "metadata": {},
   "outputs": [
    {
     "data": {
      "text/html": [
       "<div>\n",
       "<style scoped>\n",
       "    .dataframe tbody tr th:only-of-type {\n",
       "        vertical-align: middle;\n",
       "    }\n",
       "\n",
       "    .dataframe tbody tr th {\n",
       "        vertical-align: top;\n",
       "    }\n",
       "\n",
       "    .dataframe thead th {\n",
       "        text-align: right;\n",
       "    }\n",
       "</style>\n",
       "<table border=\"1\" class=\"dataframe\">\n",
       "  <thead>\n",
       "    <tr style=\"text-align: right;\">\n",
       "      <th></th>\n",
       "      <th>Date Time</th>\n",
       "      <th>Water Level</th>\n",
       "    </tr>\n",
       "  </thead>\n",
       "  <tbody>\n",
       "    <tr>\n",
       "      <th>421</th>\n",
       "      <td>2018-10-10 18:06</td>\n",
       "      <td>6.647</td>\n",
       "    </tr>\n",
       "  </tbody>\n",
       "</table>\n",
       "</div>"
      ],
      "text/plain": [
       "            Date Time   Water Level\n",
       "421  2018-10-10 18:06         6.647"
      ]
     },
     "execution_count": 1,
     "metadata": {},
     "output_type": "execute_result"
    }
   ],
   "source": [
    "import pandas as pd\n",
    "\n",
    "df=pd.read_csv(\"CO-OPS__8729108__wl.csv\")\n",
    "\n",
    "data=df.dropna() #remove NA\n",
    "\n",
    "data=pd.DataFrame(data, columns=['Date Time', ' Water Level']) #extract the data frame called \"data\" containing 'Data Time' and 'Water Level'\n",
    "data[' Water Level'] = pd.to_numeric(data[' Water Level'], errors='coerce')\n",
    "\n",
    "data.sort_values(by=[' Water Level'], ascending=False).head(1) #sort the data frame base on \"Water Level\" and show the first row"
   ]
  },
  {
   "cell_type": "markdown",
   "metadata": {},
   "source": [
    "## Problem 3:\n",
    "Write a script (or Jupyter Notebook code block) that calculates the fastest rise in water level per 6-minute period between measurements and reports the data and time that was observed and the change in water level during that period. You can use line by line or dataframe for this."
   ]
  },
  {
   "cell_type": "code",
   "execution_count": 2,
   "metadata": {},
   "outputs": [
    {
     "name": "stdout",
     "output_type": "stream",
     "text": [
      "From 2018-10-10 17:36 to 2018-10-10 17:42 Water Level increased: 0.64\n"
     ]
    }
   ],
   "source": [
    "import pandas as pd\n",
    "\n",
    "df = pd.read_csv(\"CO-OPS__8729108__wl.csv\")\n",
    "\n",
    "data = df.dropna() #remove NA\n",
    "\n",
    "data = pd.DataFrame(data, columns=['Date Time', ' Water Level']) #extract the data frame called \"data\" containing 'Data Time' and 'Water Level'\n",
    "data[' Water Level'] = pd.to_numeric(data[' Water Level'], errors='coerce')\n",
    "raise_max = 0.0\n",
    "for i in range(0,data.shape[0]-1): #loop through the data frame based on its dimension\n",
    "    level_diff = float(data.iloc[i+1][1]) - float(data.iloc[i][1]) #calculate level difference\n",
    "    if level_diff > raise_max:\n",
    "        raise_max = level_diff #maximum raised level\n",
    "        start = data.iloc[i][0] #starting date\n",
    "        end = data.iloc[i+1][0] #ending date\n",
    "print(\"From\", start, \"to\", end, \"Water Level increased:\", round(raise_max, 2))"
   ]
  },
  {
   "cell_type": "markdown",
   "metadata": {},
   "source": [
    "## Problem 4: \n",
    "Write a script (or Jupyter Notebook code block) that plots a line graph of water level over time using matplotlib."
   ]
  },
  {
   "cell_type": "code",
   "execution_count": 3,
   "metadata": {},
   "outputs": [
    {
     "data": {
      "image/png": "[encoded data removed]",
      "text/plain": [
       "<Figure size 432x288 with 1 Axes>"
      ]
     },
     "metadata": {
      "needs_background": "light"
     },
     "output_type": "display_data"
    }
   ],
   "source": [
    "%matplotlib inline \n",
    "\n",
    "import pandas as pd \n",
    "import matplotlib.pyplot as plt\n",
    "\n",
    "\n",
    "Table = pd.read_csv('CO-OPS__8729108__wl.csv') #reads through csv and puts into a table \n",
    "\n",
    "Table = df.dropna() #remove NA\n",
    "\n",
    "\n",
    "wl = Table[' Water Level']\n",
    "time = Table['Date Time']\n",
    "\n",
    "plt.plot(time, wl, '-')\n",
    "plt.axis([0, 750, 0, 7])\n",
    "plt.xlabel('\\n Time')\n",
    "plt.ylabel('\\n Water Level')\n",
    "plt.title('\\n Water level observations from the Panama City, FL station \\n during Hurricane Michael (from 10/9/2018 0:00)\\n')\n",
    "\n",
    "plt.tick_params(\n",
    "    axis='x',          # changes apply to the x-axis\n",
    "    which='both',      # both major and minor ticks are affected\n",
    "    bottom=False,      # removes x axis tick marks so that there is not a large black line \n",
    "    top=False,         # removes x axis ticks along the top to remove black line \n",
    "    labelbottom=False)\n",
    "\n",
    "plt.show()"
   ]
  },
  {
   "cell_type": "markdown",
   "metadata": {},
   "source": [
    "## Problem 5: Peer Review:\n",
    "Each person will review one other persons answers and leave comments. \n",
    "\n",
    "If the code works for the reviewer and produces the desired result, they will say so.\n",
    "\n",
    "If it doesn't work they will try to figure out why and suggest a fix.\n",
    "\n",
    "If the reviewer can understand the code, its logic and what you are doing they will say so.\n",
    "\n",
    "If the reviewer can't understand what you were doing, they will suggest where things are confusing and how to improve."
   ]
  },
  {
   "cell_type": "raw",
   "metadata": {},
   "source": []
  },
  {
   "cell_type": "markdown",
   "metadata": {},
   "source": [
    "## Extra Credit:\n",
    "Using the Web Services Button on this page LINK as a guide and/or the API description LINK, write a script (or Jupyter Notebook code block) to download data from Panama City, Fl for \"today\" e.i. whenever the code is run, get that day's data."
   ]
  },
  {
   "cell_type": "code",
   "execution_count": 4,
   "metadata": {},
   "outputs": [
    {
     "name": "stdout",
     "output_type": "stream",
     "text": [
      "Water level data file from Panama City, Fl has been downloaded, which can also be accessed in:\n",
      " https://tidesandcurrents.noaa.gov/api/datagetter?station=8729108&time_zone=GMT&datum=MLLW&product=water_level&application=NOS.COOPS.TAC.WL&units=english&format=csv&date=today \n",
      "\n",
      "Date Time, Water Level, Sigma, O, F, R, L, Quality \n",
      "2018-10-26 00:00,2.182,,1,0,0,0,p\n",
      "2018-10-26 00:\n"
     ]
    }
   ],
   "source": [
    "import urllib.request, urllib.parse, urllib.error\n",
    "import datetime as dt\n",
    "import requests\n",
    "\n",
    "serviceurl = 'https://tidesandcurrents.noaa.gov/api/datagetter?'\n",
    "id=\"8729108\"\n",
    "units=\"english\"\n",
    "timezone=\"GMT\"\n",
    "datum=\"MLLW\"\n",
    "product=\"water_level\"\n",
    "application=\"NOS.COOPS.TAC.WL\"\n",
    "format=\"csv\" \n",
    "\n",
    "#open a output file\n",
    "output=open(\"Water_Level_Today.csv\", \"w+\")\n",
    "\n",
    "url = serviceurl +\\\n",
    "      urllib.parse.urlencode({\"station\":id,\n",
    "                                \"time_zone\":timezone,\n",
    "                                \"datum\":datum,\n",
    "                                \"product\":product,\n",
    "                                \"application\": application,\n",
    "                                \"units\":units,\n",
    "                                \"format\": \"csv\",\n",
    "                                \"date\":\"today\"\n",
    "                               })\n",
    "     \n",
    " \n",
    "\n",
    "print('Water level data file from Panama City, Fl has been downloaded, which can also be accessed in:\\n',url,'\\n') #report url\n",
    "response = requests.get(url)\n",
    "   \n",
    "if response.status_code != 200:\n",
    "    print('Failed to get data:', response.status_code)\n",
    "else:\n",
    "    print(response.text[:100])\n",
    "    output.write(response.text)\n",
    "\n",
    "#Output file closed\n",
    "output.close()"
   ]
  }
 ],
 "metadata": {
  "kernelspec": {
   "display_name": "Python 3",
   "language": "python",
   "name": "python3"
  },
  "language_info": {
   "codemirror_mode": {
    "name": "ipython",
    "version": 3
   },
   "file_extension": ".py",
   "mimetype": "text/x-python",
   "name": "python",
   "nbconvert_exporter": "python",
   "pygments_lexer": "ipython3",
   "version": "3.6.3"
  }
 },
 "nbformat": 4,
 "nbformat_minor": 2
}
